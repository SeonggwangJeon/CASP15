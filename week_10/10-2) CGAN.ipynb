{
  "cells": [
    {
      "cell_type": "code",
      "execution_count": 2,
      "id": "2d17497a",
      "metadata": {
        "colab": {
          "base_uri": "https://localhost:8080/"
        },
        "id": "2d17497a",
        "outputId": "0800c2f4-7f45-4352-da78-217e401e5899"
      },
      "outputs": [
        {
          "output_type": "stream",
          "name": "stdout",
          "text": [
            "Collecting git+https://github.com/tensorflow/docs\n",
            "  Cloning https://github.com/tensorflow/docs to /tmp/pip-req-build-86cq1t2l\n",
            "  Running command git clone -q https://github.com/tensorflow/docs /tmp/pip-req-build-86cq1t2l\n",
            "Requirement already satisfied: astor in /usr/local/lib/python3.7/dist-packages (from tensorflow-docs==0.0.0.dev0) (0.8.1)\n",
            "Requirement already satisfied: absl-py in /usr/local/lib/python3.7/dist-packages (from tensorflow-docs==0.0.0.dev0) (1.0.0)\n",
            "Requirement already satisfied: jinja2 in /usr/local/lib/python3.7/dist-packages (from tensorflow-docs==0.0.0.dev0) (2.11.3)\n",
            "Requirement already satisfied: protobuf>=3.14 in /usr/local/lib/python3.7/dist-packages (from tensorflow-docs==0.0.0.dev0) (3.17.3)\n",
            "Requirement already satisfied: pyyaml in /usr/local/lib/python3.7/dist-packages (from tensorflow-docs==0.0.0.dev0) (3.13)\n",
            "Requirement already satisfied: six>=1.9 in /usr/local/lib/python3.7/dist-packages (from protobuf>=3.14->tensorflow-docs==0.0.0.dev0) (1.15.0)\n",
            "Requirement already satisfied: MarkupSafe>=0.23 in /usr/local/lib/python3.7/dist-packages (from jinja2->tensorflow-docs==0.0.0.dev0) (2.0.1)\n"
          ]
        }
      ],
      "source": [
        "pip install git+https://github.com/tensorflow/docs"
      ]
    },
    {
      "cell_type": "code",
      "execution_count": 3,
      "id": "f14e8f0f",
      "metadata": {
        "id": "f14e8f0f"
      },
      "outputs": [],
      "source": [
        "from tensorflow import keras\n",
        "from tensorflow.keras import layers\n",
        "\n",
        "\n",
        "from tensorflow_docs.vis import embed\n",
        "import matplotlib.pyplot as plt\n",
        "import tensorflow as tf\n",
        "import numpy as np\n",
        "import imageio"
      ]
    },
    {
      "cell_type": "markdown",
      "id": "8b0022af",
      "metadata": {
        "id": "8b0022af"
      },
      "source": [
        "### Constants and hyperparameters"
      ]
    },
    {
      "cell_type": "code",
      "execution_count": 4,
      "id": "565d8e5b",
      "metadata": {
        "id": "565d8e5b"
      },
      "outputs": [],
      "source": [
        "batch_size = 64\n",
        "num_channels = 1\n",
        "num_classes = 10\n",
        "image_size = 28\n",
        "latent_dim = 128"
      ]
    },
    {
      "cell_type": "markdown",
      "id": "914c0ccf",
      "metadata": {
        "id": "914c0ccf"
      },
      "source": [
        "### Loading the MNIST dataset and preprocessing it"
      ]
    },
    {
      "cell_type": "code",
      "execution_count": 5,
      "id": "7b395336",
      "metadata": {
        "colab": {
          "base_uri": "https://localhost:8080/"
        },
        "id": "7b395336",
        "outputId": "3a34b9bd-651d-4a67-cb11-e39b2458e095"
      },
      "outputs": [
        {
          "output_type": "stream",
          "name": "stdout",
          "text": [
            "Downloading data from https://storage.googleapis.com/tensorflow/tf-keras-datasets/mnist.npz\n",
            "11493376/11490434 [==============================] - 0s 0us/step\n",
            "11501568/11490434 [==============================] - 0s 0us/step\n",
            "Shape of training images: (70000, 28, 28, 1)\n",
            "Shape of training labels: (70000, 10)\n"
          ]
        }
      ],
      "source": [
        "# We'll use all the available examples from both the training and test\n",
        "# sets.\n",
        "(x_train, y_train), (x_test, y_test) = keras.datasets.mnist.load_data()\n",
        "all_digits = np.concatenate([x_train, x_test])\n",
        "all_labels = np.concatenate([y_train, y_test])\n",
        "\n",
        "# Scale the pixel values to [0, 1] range, add a channel dimension to\n",
        "# the images, and one-hot encode the labels.\n",
        "all_digits = all_digits.astype(\"float32\") / 255.0\n",
        "all_digits = np.reshape(all_digits, (-1, 28, 28, 1))\n",
        "all_labels = keras.utils.to_categorical(all_labels, 10)\n",
        "\n",
        "# Create tf.data.Dataset.\n",
        "dataset = tf.data.Dataset.from_tensor_slices((all_digits, all_labels))\n",
        "dataset = dataset.shuffle(buffer_size=1024).batch(batch_size)\n",
        "\n",
        "print(f\"Shape of training images: {all_digits.shape}\")\n",
        "print(f\"Shape of training labels: {all_labels.shape}\")"
      ]
    },
    {
      "cell_type": "markdown",
      "id": "8a408c2e",
      "metadata": {
        "id": "8a408c2e"
      },
      "source": [
        "### The number of input channel for generator and discriminator"
      ]
    },
    {
      "cell_type": "code",
      "execution_count": 6,
      "id": "36368a2a",
      "metadata": {
        "colab": {
          "base_uri": "https://localhost:8080/"
        },
        "id": "36368a2a",
        "outputId": "99bc7154-7c08-4406-bb90-cb1febb471d4"
      },
      "outputs": [
        {
          "output_type": "stream",
          "name": "stdout",
          "text": [
            "138 11\n"
          ]
        }
      ],
      "source": [
        "generator_in_channels = latent_dim + num_classes\n",
        "discriminator_in_channels = num_channels + num_classes\n",
        "print(generator_in_channels, discriminator_in_channels)"
      ]
    },
    {
      "cell_type": "markdown",
      "id": "3c713893",
      "metadata": {
        "id": "3c713893"
      },
      "source": [
        "### Creating the discriminator and generator"
      ]
    },
    {
      "cell_type": "code",
      "execution_count": 7,
      "id": "37b47b28",
      "metadata": {
        "id": "37b47b28"
      },
      "outputs": [],
      "source": [
        "# Create the discriminator.\n",
        "discriminator = keras.Sequential(\n",
        "    [\n",
        "        keras.layers.InputLayer((28, 28, discriminator_in_channels)),\n",
        "        layers.Conv2D(64, (3, 3), strides=(2, 2), padding=\"same\"),\n",
        "        layers.LeakyReLU(alpha=0.2),\n",
        "        layers.Conv2D(128, (3, 3), strides=(2, 2), padding=\"same\"),\n",
        "        layers.LeakyReLU(alpha=0.2),\n",
        "        layers.GlobalMaxPooling2D(),\n",
        "        layers.Dense(1),\n",
        "    ],\n",
        "    name=\"discriminator\",\n",
        ")\n",
        "\n",
        "# Create the generator.\n",
        "generator = keras.Sequential(\n",
        "    [\n",
        "        keras.layers.InputLayer((generator_in_channels,)),\n",
        "        # We want to generate 128 + num_classes coefficients to reshape into a\n",
        "        # 7x7x(128 + num_classes) map.\n",
        "        layers.Dense(7 * 7 * generator_in_channels),\n",
        "        layers.LeakyReLU(alpha=0.2),\n",
        "        layers.Reshape((7, 7, generator_in_channels)),\n",
        "        layers.Conv2DTranspose(128, (4, 4), strides=(2, 2), padding=\"same\"),\n",
        "        layers.LeakyReLU(alpha=0.2),\n",
        "        layers.Conv2DTranspose(128, (4, 4), strides=(2, 2), padding=\"same\"),\n",
        "        layers.LeakyReLU(alpha=0.2),\n",
        "        layers.Conv2D(1, (7, 7), padding=\"same\", activation=\"sigmoid\"),\n",
        "    ],\n",
        "    name=\"generator\",\n",
        ")"
      ]
    },
    {
      "cell_type": "markdown",
      "id": "febf7697",
      "metadata": {
        "id": "febf7697"
      },
      "source": [
        "### CGAN model"
      ]
    },
    {
      "cell_type": "code",
      "execution_count": 8,
      "id": "754d3dc4",
      "metadata": {
        "id": "754d3dc4"
      },
      "outputs": [],
      "source": [
        "class ConditionalGAN(keras.Model):\n",
        "    def __init__(self, discriminator, generator, latent_dim):\n",
        "        super(ConditionalGAN, self).__init__()\n",
        "        self.discriminator = discriminator\n",
        "        self.generator = generator\n",
        "        self.latent_dim = latent_dim\n",
        "        self.gen_loss_tracker = keras.metrics.Mean(name=\"generator_loss\")\n",
        "        self.disc_loss_tracker = keras.metrics.Mean(name=\"discriminator_loss\")\n",
        "\n",
        "    @property\n",
        "    def metrics(self):\n",
        "        return [self.gen_loss_tracker, self.disc_loss_tracker]\n",
        "\n",
        "    def compile(self, d_optimizer, g_optimizer, loss_fn):\n",
        "        super(ConditionalGAN, self).compile()\n",
        "        self.d_optimizer = d_optimizer\n",
        "        self.g_optimizer = g_optimizer\n",
        "        self.loss_fn = loss_fn\n",
        "\n",
        "    def train_step(self, data):\n",
        "        # Unpack the data.\n",
        "        real_images, one_hot_labels = data\n",
        "\n",
        "        # Add dummy dimensions to the labels so that they can be concatenated with\n",
        "        # the images. This is for the discriminator.\n",
        "        image_one_hot_labels = one_hot_labels[:, :, None, None]\n",
        "        image_one_hot_labels = tf.repeat(\n",
        "            image_one_hot_labels, repeats=[image_size * image_size]\n",
        "        )\n",
        "        image_one_hot_labels = tf.reshape(\n",
        "            image_one_hot_labels, (-1, image_size, image_size, num_classes)\n",
        "        )\n",
        "\n",
        "        # Sample random points in the latent space and concatenate the labels.\n",
        "        # This is for the generator.\n",
        "        batch_size = tf.shape(real_images)[0]\n",
        "        random_latent_vectors = tf.random.normal(shape=(batch_size, self.latent_dim))\n",
        "        random_vector_labels = tf.concat(\n",
        "            [random_latent_vectors, one_hot_labels], axis=1\n",
        "        )\n",
        "\n",
        "        # Decode the noise (guided by labels) to fake images.\n",
        "        generated_images = self.generator(random_vector_labels)\n",
        "\n",
        "        # Combine them with real images. Note that we are concatenating the labels\n",
        "        # with these images here.\n",
        "        fake_image_and_labels = tf.concat([generated_images, image_one_hot_labels], -1)\n",
        "        real_image_and_labels = tf.concat([real_images, image_one_hot_labels], -1)\n",
        "        combined_images = tf.concat(\n",
        "            [fake_image_and_labels, real_image_and_labels], axis=0\n",
        "        )\n",
        "\n",
        "        # Assemble labels discriminating real from fake images.\n",
        "        labels = tf.concat(\n",
        "            [tf.ones((batch_size, 1)), tf.zeros((batch_size, 1))], axis=0\n",
        "        )\n",
        "\n",
        "        # Train the discriminator.\n",
        "        with tf.GradientTape() as tape:\n",
        "            predictions = self.discriminator(combined_images)\n",
        "            d_loss = self.loss_fn(labels, predictions)\n",
        "        grads = tape.gradient(d_loss, self.discriminator.trainable_weights)\n",
        "        self.d_optimizer.apply_gradients(\n",
        "            zip(grads, self.discriminator.trainable_weights)\n",
        "        )\n",
        "\n",
        "        # Sample random points in the latent space.\n",
        "        random_latent_vectors = tf.random.normal(shape=(batch_size, self.latent_dim))\n",
        "        random_vector_labels = tf.concat(\n",
        "            [random_latent_vectors, one_hot_labels], axis=1\n",
        "        )\n",
        "\n",
        "        # Assemble labels that say \"all real images\".\n",
        "        misleading_labels = tf.zeros((batch_size, 1))\n",
        "\n",
        "        # Train the generator (note that we should *not* update the weights\n",
        "        # of the discriminator)!\n",
        "        with tf.GradientTape() as tape:\n",
        "            fake_images = self.generator(random_vector_labels)\n",
        "            fake_image_and_labels = tf.concat([fake_images, image_one_hot_labels], -1)\n",
        "            predictions = self.discriminator(fake_image_and_labels)\n",
        "            g_loss = self.loss_fn(misleading_labels, predictions)\n",
        "        grads = tape.gradient(g_loss, self.generator.trainable_weights)\n",
        "        self.g_optimizer.apply_gradients(zip(grads, self.generator.trainable_weights))\n",
        "\n",
        "        # Monitor loss.\n",
        "        self.gen_loss_tracker.update_state(g_loss)\n",
        "        self.disc_loss_tracker.update_state(d_loss)\n",
        "        return {\n",
        "            \"g_loss\": self.gen_loss_tracker.result(),\n",
        "            \"d_loss\": self.disc_loss_tracker.result(),\n",
        "        }\n"
      ]
    },
    {
      "cell_type": "markdown",
      "id": "9e662a5e",
      "metadata": {
        "id": "9e662a5e"
      },
      "source": [
        "### Training the CGAN"
      ]
    },
    {
      "cell_type": "code",
      "execution_count": 9,
      "id": "f9f1d56c",
      "metadata": {
        "id": "f9f1d56c"
      },
      "outputs": [],
      "source": [
        "cond_gan = ConditionalGAN(\n",
        "    discriminator=discriminator, generator=generator, latent_dim=latent_dim\n",
        ")\n",
        "cond_gan.compile(\n",
        "    d_optimizer=keras.optimizers.Adam(learning_rate=0.0003),\n",
        "    g_optimizer=keras.optimizers.Adam(learning_rate=0.0003),\n",
        "    loss_fn=keras.losses.BinaryCrossentropy(from_logits=True),\n",
        ") \n",
        "\n",
        "#cond_gan.fit(dataset, epochs=20)"
      ]
    },
    {
      "cell_type": "markdown",
      "source": [
        "## Loading trained parameter to save time"
      ],
      "metadata": {
        "id": "zK1R3gYyJeLT"
      },
      "id": "zK1R3gYyJeLT"
    },
    {
      "cell_type": "code",
      "source": [
        "!git clone https://github.com/enjoy-365/AI_Programming_2022.git\n",
        "cond_gan.load_weights('/content/AI_Programming_2022/week_10/weights/cond_gan/')"
      ],
      "metadata": {
        "id": "JzcFaPwgNCU7",
        "outputId": "7f699b52-b9da-4bd9-8046-8f30305f188e",
        "colab": {
          "base_uri": "https://localhost:8080/"
        }
      },
      "id": "JzcFaPwgNCU7",
      "execution_count": 10,
      "outputs": [
        {
          "output_type": "stream",
          "name": "stdout",
          "text": [
            "Cloning into 'AI_Programming_2022'...\n",
            "remote: Enumerating objects: 359, done.\u001b[K\n",
            "remote: Counting objects: 100% (66/66), done.\u001b[K\n",
            "remote: Compressing objects: 100% (59/59), done.\u001b[K\n",
            "remote: Total 359 (delta 26), reused 25 (delta 5), pack-reused 293\u001b[K\n",
            "Receiving objects: 100% (359/359), 26.69 MiB | 13.88 MiB/s, done.\n",
            "Resolving deltas: 100% (174/174), done.\n"
          ]
        },
        {
          "output_type": "execute_result",
          "data": {
            "text/plain": [
              "<tensorflow.python.training.tracking.util.CheckpointLoadStatus at 0x7f2a41f78910>"
            ]
          },
          "metadata": {},
          "execution_count": 10
        }
      ]
    },
    {
      "cell_type": "markdown",
      "id": "bfdc6775",
      "metadata": {
        "id": "bfdc6775"
      },
      "source": [
        "### Interpolating between classes with the trained generator"
      ]
    },
    {
      "cell_type": "code",
      "execution_count": 13,
      "id": "0c67dc1f",
      "metadata": {
        "id": "0c67dc1f"
      },
      "outputs": [],
      "source": [
        "# We first extract the trained generator from our Conditiona GAN.\n",
        "trained_gen = cond_gan.generator\n",
        "\n",
        "# Choose the number of intermediate images that would be generated in\n",
        "# between the interpolation + 2 (start and last images).\n",
        "num_interpolation = 9  # @param {type:\"integer\"}\n",
        "\n",
        "# Sample noise for the interpolation.\n",
        "interpolation_noise = tf.random.normal(shape=(1, latent_dim))\n",
        "interpolation_noise = tf.repeat(interpolation_noise, repeats=num_interpolation)\n",
        "interpolation_noise = tf.reshape(interpolation_noise, (num_interpolation, latent_dim))\n",
        "\n",
        "\n",
        "def interpolate_class(first_number, second_number):\n",
        "    # Convert the start and end labels to one-hot encoded vectors.\n",
        "    first_label = keras.utils.to_categorical([first_number], num_classes)\n",
        "    second_label = keras.utils.to_categorical([second_number], num_classes)\n",
        "    first_label = tf.cast(first_label, tf.float32)\n",
        "    second_label = tf.cast(second_label, tf.float32)\n",
        "\n",
        "    # Calculate the interpolation vector between the two labels.\n",
        "    percent_second_label = tf.linspace(0, 1, num_interpolation)[:, None]\n",
        "    percent_second_label = tf.cast(percent_second_label, tf.float32)\n",
        "    interpolation_labels = (\n",
        "        first_label * (1 - percent_second_label) + second_label * percent_second_label\n",
        "    )\n",
        "\n",
        "    # Combine the noise and the labels and run inference with the generator.\n",
        "    noise_and_labels = tf.concat([interpolation_noise, interpolation_labels], 1)\n",
        "    fake = trained_gen.predict(noise_and_labels)\n",
        "    return fake\n",
        "\n",
        "\n",
        "start_class = 2  # @param {type:\"slider\", min:0, max:9, step:1}\n",
        "end_class = 5  # @param {type:\"slider\", min:0, max:9, step:1}\n",
        "\n",
        "fake_images = interpolate_class(start_class, end_class)"
      ]
    },
    {
      "cell_type": "code",
      "execution_count": 14,
      "id": "5fafcc20",
      "metadata": {
        "colab": {
          "base_uri": "https://localhost:8080/",
          "height": 116
        },
        "id": "5fafcc20",
        "outputId": "7253277c-cde9-45d8-9fef-59a3b1b38d5d"
      },
      "outputs": [
        {
          "output_type": "execute_result",
          "data": {
            "text/plain": [
              "<IPython.core.display.HTML object>"
            ],
            "text/html": [
              "<img src=\"data:image/gif;base64,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\"/>"
            ]
          },
          "metadata": {},
          "execution_count": 14
        }
      ],
      "source": [
        "fake_images *= 255.0\n",
        "converted_images = fake_images.astype(np.uint8)\n",
        "converted_images = tf.image.resize(converted_images, (96, 96)).numpy().astype(np.uint8)\n",
        "imageio.mimsave(\"animation.gif\", converted_images, fps=1)\n",
        "embed.embed_file(\"animation.gif\")"
      ]
    },
    {
      "cell_type": "code",
      "source": [
        ""
      ],
      "metadata": {
        "id": "nDECA_3OJR5W"
      },
      "id": "nDECA_3OJR5W",
      "execution_count": null,
      "outputs": []
    }
  ],
  "metadata": {
    "kernelspec": {
      "display_name": "Python 3 (ipykernel)",
      "language": "python",
      "name": "python3"
    },
    "language_info": {
      "codemirror_mode": {
        "name": "ipython",
        "version": 3
      },
      "file_extension": ".py",
      "mimetype": "text/x-python",
      "name": "python",
      "nbconvert_exporter": "python",
      "pygments_lexer": "ipython3",
      "version": "3.9.12"
    },
    "colab": {
      "name": "CGAN.ipynb",
      "provenance": []
    },
    "accelerator": "GPU"
  },
  "nbformat": 4,
  "nbformat_minor": 5
}